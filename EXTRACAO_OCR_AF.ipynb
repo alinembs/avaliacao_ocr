{
 "cells": [
  {
   "cell_type": "markdown",
   "metadata": {
    "id": "NTLLa2gcNPDS",
    "jp-MarkdownHeadingCollapsed": true
   },
   "source": [
    "\n",
    "\n",
    "##### Importação das Bibliotecas"
   ]
  },
  {
   "cell_type": "raw",
   "metadata": {
    "colab": {
     "base_uri": "https://localhost:8080/"
    },
    "id": "etPkwr9Z_mca",
    "outputId": "0fa8a652-55bc-48b5-fc2d-728debf55f36"
   },
   "source": [
    "\n",
    "!pip install pytesseract\n",
    "\n",
    "!pip install pdf2image\n",
    "!pip install pdfreader\n",
    "!pip install PyPDF3\n",
    "\n",
    "!pip install txtai\n",
    "\n",
    "!pip install pdfminer\n",
    "!pip install pdfx\n",
    "\n",
    "!pip install tika\n",
    "\n",
    "!pip install pdfplumber\n",
    "\n",
    "!pip install easyocr\n",
    "\n",
    "!pip install langchain\n",
    "\n",
    "!pip install pdfminer.six\n",
    "\n",
    "!pip install PyMuPDF\n",
    "\n",
    "!pip install pdfplumber\n",
    "\n",
    "!pip install -U pypdfium2\n",
    "\n",
    "!pip install ipython-autotime -q\n",
    "\n",
    "%load_ext autotime"
   ]
  },
  {
   "cell_type": "code",
   "execution_count": 1,
   "metadata": {},
   "outputs": [
    {
     "name": "stdout",
     "output_type": "stream",
     "text": [
      "3\n"
     ]
    }
   ],
   "source": [
    "print(3)"
   ]
  },
  {
   "cell_type": "code",
   "execution_count": 5,
   "metadata": {
    "colab": {
     "base_uri": "https://localhost:8080/"
    },
    "id": "ot-Wj55NXxVk",
    "outputId": "7e2d232b-b810-4712-b818-7d2edd05e6fd"
   },
   "outputs": [],
   "source": [
    "import fitz\n",
    "import pytesseract\n",
    "from PIL import Image\n",
    "from pdf2image import convert_from_path\n",
    "from pytesseract import image_to_string\n",
    "from pdfx import PDFx\n",
    "import PyPDF2\n",
    "from tika import parser\n",
    "from tqdm import tqdm\n",
    "from PIL import Image\n",
    "from io import BytesIO\n",
    "import pypdfium2 as pdfium\n",
    "import pdfplumber\n",
    "import torch\n",
    "import time\n",
    "%timeit"
   ]
  },
  {
   "cell_type": "code",
   "execution_count": 3,
   "metadata": {
    "scrolled": true
   },
   "outputs": [],
   "source": [
    "# from easyocr import Reader\n",
    "# language_reader = Reader([\"pt\"], gpu=True)"
   ]
  },
  {
   "cell_type": "code",
   "execution_count": 22,
   "metadata": {},
   "outputs": [
    {
     "name": "stdout",
     "output_type": "stream",
     "text": [
      "True\n"
     ]
    }
   ],
   "source": [
    "print(torch.cuda.is_available())"
   ]
  },
  {
   "cell_type": "code",
   "execution_count": 25,
   "metadata": {
    "colab": {
     "base_uri": "https://localhost:8080/"
    },
    "id": "ybrbMUYW47ro",
    "outputId": "6b3efa3a-dd4e-49c8-d7de-be55134f943b"
   },
   "outputs": [],
   "source": [
    "import pandas as pd\n",
    "import os\n",
    "%timeit"
   ]
  },
  {
   "cell_type": "markdown",
   "metadata": {
    "id": "hvzDeGbe7JpT",
    "jp-MarkdownHeadingCollapsed": true
   },
   "source": [
    "##### Diretório dos Arquivos"
   ]
  },
  {
   "cell_type": "code",
   "execution_count": 26,
   "metadata": {
    "id": "hXgnXfr4XtsE"
   },
   "outputs": [
    {
     "ename": "FileNotFoundError",
     "evalue": "[Errno 2] No such file or directory: '/home/laca/Documentos/PDF/Avaliacao_Final/Conjunto_de_Dados/Conjunto_de_Dados'",
     "output_type": "error",
     "traceback": [
      "\u001b[0;31m---------------------------------------------------------------------------\u001b[0m",
      "\u001b[0;31mFileNotFoundError\u001b[0m                         Traceback (most recent call last)",
      "Cell \u001b[0;32mIn[26], line 4\u001b[0m\n\u001b[1;32m      2\u001b[0m directory \u001b[38;5;241m=\u001b[39m \u001b[38;5;124m'\u001b[39m\u001b[38;5;124mConjunto_de_Dados\u001b[39m\u001b[38;5;124m'\u001b[39m\n\u001b[1;32m      3\u001b[0m path \u001b[38;5;241m=\u001b[39m os\u001b[38;5;241m.\u001b[39mpath\u001b[38;5;241m.\u001b[39mjoin(current, directory)\n\u001b[0;32m----> 4\u001b[0m os\u001b[38;5;241m.\u001b[39mchdir(path)\n\u001b[1;32m      5\u001b[0m diretorio_pasta \u001b[38;5;241m=\u001b[39m os\u001b[38;5;241m.\u001b[39mgetcwd()\n\u001b[1;32m      6\u001b[0m conteudo_diretorio \u001b[38;5;241m=\u001b[39m os\u001b[38;5;241m.\u001b[39mlistdir(os\u001b[38;5;241m.\u001b[39mgetcwd())\n",
      "\u001b[0;31mFileNotFoundError\u001b[0m: [Errno 2] No such file or directory: '/home/laca/Documentos/PDF/Avaliacao_Final/Conjunto_de_Dados/Conjunto_de_Dados'"
     ]
    }
   ],
   "source": [
    "current = os.getcwd()\n",
    "directory = 'Conjunto_de_Dados'\n",
    "path = os.path.join(current, directory)\n",
    "os.chdir(path)\n",
    "diretorio_pasta = os.getcwd()\n",
    "conteudo_diretorio = os.listdir(os.getcwd())\n",
    "\n",
    "print(diretorio_pasta, conteudo_diretorio)\n"
   ]
  },
  {
   "cell_type": "markdown",
   "metadata": {
    "id": "afrsuLuipJvM",
    "jp-MarkdownHeadingCollapsed": true
   },
   "source": [
    "##### Converter o PDF em imagens para o OCR antes - Tempo adicionado no tempo de processamento final de cada ferramenta OCR -"
   ]
  },
  {
   "cell_type": "code",
   "execution_count": 7,
   "metadata": {
    "id": "OTHUfHsipVxi"
   },
   "outputs": [],
   "source": [
    "def convert_pdf_to_images(file_path, scale=300/72):\n",
    "\n",
    "    pdf_file = pdfium.PdfDocument(file_path)\n",
    "    page_indices = [i for i in range(len(pdf_file))]\n",
    "\n",
    "    renderer = pdf_file.render(\n",
    "        pdfium.PdfBitmap.to_pil,\n",
    "        page_indices = page_indices,\n",
    "        scale = scale,\n",
    "    )\n",
    "\n",
    "    list_final_images = []\n",
    "\n",
    "    for i, image in zip(page_indices, renderer):\n",
    "\n",
    "        image_byte_array = BytesIO()\n",
    "        image.save(image_byte_array, format='jpeg', optimize=True)\n",
    "        image_byte_array = image_byte_array.getvalue()\n",
    "        list_final_images.append(dict({i:image_byte_array}))\n",
    "\n",
    "    return list_final_images"
   ]
  },
  {
   "cell_type": "code",
   "execution_count": 8,
   "metadata": {
    "id": "oRg1ukC6puLK"
   },
   "outputs": [],
   "source": [
    "start = time.time()\n",
    "convert_pdf_to_image_D1 = convert_pdf_to_images(os.getcwd()+'/Dataset 1/Extrasensory_Perception_Research_Finding.pdf')\n",
    "convert_pdf_to_image_D2 = convert_pdf_to_images(os.getcwd()+'/Dataset 2/9788523211806.pdf')\n",
    "convert_pdf_to_image_D4 = convert_pdf_to_images(os.getcwd()+'/Dataset 3/oparaisoperdido.pdf')\n",
    "convert_pdf_to_image_D5 = convert_pdf_to_images(os.getcwd()+'/Dataset 4/historiatradsp1954vol3.pdf')\n",
    "convert_pdf_to_image_D3 = convert_pdf_to_images(os.getcwd()+'/Dataset 5/Iracema-Jose-de-Alencar.pdf')\n",
    "end = time.time()\n",
    "\n",
    "\n",
    "metodo=['OCR']\n",
    "tempo=[end-start]\n"
   ]
  },
  {
   "cell_type": "code",
   "execution_count": 9,
   "metadata": {
    "id": "1POEuqfzNU-R"
   },
   "outputs": [],
   "source": [
    "lista_imagens = [convert_pdf_to_image_D1,convert_pdf_to_image_D2,convert_pdf_to_image_D3,convert_pdf_to_image_D4,convert_pdf_to_image_D5]"
   ]
  },
  {
   "cell_type": "code",
   "execution_count": 10,
   "metadata": {
    "id": "p3hbKAtyETi3"
   },
   "outputs": [],
   "source": [
    "df_tempo = pd.DataFrame({'nome': metodo, 'tempo': tempo})\n"
   ]
  },
  {
   "cell_type": "code",
   "execution_count": 11,
   "metadata": {},
   "outputs": [
    {
     "data": {
      "text/html": [
       "<div>\n",
       "<style scoped>\n",
       "    .dataframe tbody tr th:only-of-type {\n",
       "        vertical-align: middle;\n",
       "    }\n",
       "\n",
       "    .dataframe tbody tr th {\n",
       "        vertical-align: top;\n",
       "    }\n",
       "\n",
       "    .dataframe thead th {\n",
       "        text-align: right;\n",
       "    }\n",
       "</style>\n",
       "<table border=\"1\" class=\"dataframe\">\n",
       "  <thead>\n",
       "    <tr style=\"text-align: right;\">\n",
       "      <th></th>\n",
       "      <th>nome</th>\n",
       "      <th>tempo</th>\n",
       "    </tr>\n",
       "  </thead>\n",
       "  <tbody>\n",
       "    <tr>\n",
       "      <th>0</th>\n",
       "      <td>OCR</td>\n",
       "      <td>540.501901</td>\n",
       "    </tr>\n",
       "  </tbody>\n",
       "</table>\n",
       "</div>"
      ],
      "text/plain": [
       "  nome       tempo\n",
       "0  OCR  540.501901"
      ]
     },
     "execution_count": 11,
     "metadata": {},
     "output_type": "execute_result"
    }
   ],
   "source": [
    "df_tempo"
   ]
  },
  {
   "cell_type": "markdown",
   "metadata": {
    "id": "ffXyn8_tMbGq",
    "jp-MarkdownHeadingCollapsed": true
   },
   "source": [
    "### Ferramentas de Extração de texto"
   ]
  },
  {
   "cell_type": "code",
   "execution_count": 12,
   "metadata": {
    "id": "s5z-g7WsETi4",
    "vscode": {
     "languageId": "plaintext"
    }
   },
   "outputs": [],
   "source": [
    "# df_texto = pd.DataFrame(columns=['nome_documento','PDFX','PyMuPDF','PyPdf2','PyTesseract','EasyOCR'])\n",
    "df_texto = pd.DataFrame(columns=['nome_documento','PDFX'])"
   ]
  },
  {
   "cell_type": "markdown",
   "metadata": {
    "id": "bekh50TXETi4"
   },
   "source": [
    "Ferramenta 01 - PyPDFx ✔️\n",
    "\n"
   ]
  },
  {
   "cell_type": "code",
   "execution_count": 13,
   "metadata": {
    "id": "12XwvaCzh1bH"
   },
   "outputs": [
    {
     "name": "stderr",
     "output_type": "stream",
     "text": [
      "Diretorio da Pasta: 0it [00:00, ?it/s]\n",
      "Extraindo texto dos arquivados: 100%|██████████| 2/2 [00:00<00:00, 47662.55it/s]\n"
     ]
    },
    {
     "name": "stdout",
     "output_type": "stream",
     "text": [
      "kernel-NVIDIA_RTX_A5500.bin\n",
      "tesseract_opencl_profile_devices.dat\n"
     ]
    },
    {
     "name": "stderr",
     "output_type": "stream",
     "text": [
      "\n",
      "Extraindo texto dos arquivados:   0%|          | 0/2 [00:00<?, ?it/s]\u001b[A"
     ]
    },
    {
     "name": "stdout",
     "output_type": "stream",
     "text": [
      "Extrasensory_Perception_Research_Finding.pdf\n"
     ]
    },
    {
     "name": "stderr",
     "output_type": "stream",
     "text": [
      "\n",
      "Extraindo texto dos arquivados: 100%|██████████| 2/2 [00:06<00:00,  3.44s/it]\u001b[A\n",
      "Diretorio da Pasta: 2it [00:06,  3.44s/it]"
     ]
    },
    {
     "name": "stdout",
     "output_type": "stream",
     "text": [
      "Extrasensory_Perception_Research_Finding_djvu.txt\n"
     ]
    },
    {
     "name": "stderr",
     "output_type": "stream",
     "text": [
      "\n",
      "Extraindo texto dos arquivados:   0%|          | 0/2 [00:00<?, ?it/s]\u001b[A"
     ]
    },
    {
     "name": "stdout",
     "output_type": "stream",
     "text": [
      "9788523211806_djvu.txt\n",
      "9788523211806.pdf\n"
     ]
    },
    {
     "name": "stderr",
     "output_type": "stream",
     "text": [
      "\n",
      "Extraindo texto dos arquivados: 100%|██████████| 2/2 [00:09<00:00,  4.54s/it]\u001b[A\n",
      "Diretorio da Pasta: 3it [00:15,  5.79s/it]\n",
      "Extraindo texto dos arquivados:   0%|          | 0/4 [00:00<?, ?it/s]\u001b[A"
     ]
    },
    {
     "name": "stdout",
     "output_type": "stream",
     "text": [
      "Iracema-Jose-de-Alencar_hocr_searchtext.txt.gz\n",
      "Iracema-Jose-de-Alencar_hocr_pageindex.json.gz\n",
      "Iracema-Jose-de-Alencar_djvu.txt\n",
      "Iracema-Jose-de-Alencar.pdf\n"
     ]
    },
    {
     "name": "stderr",
     "output_type": "stream",
     "text": [
      "\n",
      "Extraindo texto dos arquivados: 100%|██████████| 4/4 [00:04<00:00,  1.13s/it]\u001b[A\n",
      "Diretorio da Pasta: 4it [00:20,  5.31s/it]\n",
      "Extraindo texto dos arquivados:   0%|          | 0/2 [00:00<?, ?it/s]\u001b[A"
     ]
    },
    {
     "name": "stdout",
     "output_type": "stream",
     "text": [
      "O Para#U00edso Perdido - John Milton (Ediouro)_djvu.txt\n",
      "oparaisoperdido.pdf\n"
     ]
    },
    {
     "name": "stderr",
     "output_type": "stream",
     "text": [
      "\n",
      "Extraindo texto dos arquivados: 100%|██████████| 2/2 [00:16<00:00,  8.17s/it]\u001b[A\n",
      "Diretorio da Pasta: 5it [00:36,  9.15s/it]\n",
      "Extraindo texto dos arquivados: 0it [00:00, ?it/s]\u001b[A\n",
      "\n",
      "Extraindo texto dos arquivados:   0%|          | 0/4 [00:00<?, ?it/s]\u001b[A"
     ]
    },
    {
     "name": "stdout",
     "output_type": "stream",
     "text": [
      "historiatradsp1954vol3.pdf\n"
     ]
    },
    {
     "name": "stderr",
     "output_type": "stream",
     "text": [
      "\n",
      "Extraindo texto dos arquivados: 100%|██████████| 4/4 [00:12<00:00,  3.06s/it]\u001b[A\n",
      "Diretorio da Pasta: 7it [00:49,  7.01s/it]"
     ]
    },
    {
     "name": "stdout",
     "output_type": "stream",
     "text": [
      "historiatradsp1954vol3_djvu.txt\n",
      "historiatradsp1954vol3_hocr_pageindex.json.gz\n",
      "historiatradsp1954vol3_hocr_searchtext.txt.gz\n"
     ]
    },
    {
     "name": "stderr",
     "output_type": "stream",
     "text": [
      "\n"
     ]
    }
   ],
   "source": [
    "# Percorre todos os arquivos na pasta\n",
    "start = time.time()\n",
    "for pasta_raiz, _, arquivos in tqdm(os.walk(diretorio_pasta), desc = \"Diretorio da Pasta\"):\n",
    "    for arquivo in tqdm(arquivos, desc=\"Extraindo texto dos arquivados\"):\n",
    "        print(arquivo)\n",
    "        if arquivo.endswith('.pdf'):\n",
    "            caminho_arquivo = os.path.join(pasta_raiz, arquivo)\n",
    "              # Extrai texto do documento PDF usando PyPdfx\n",
    "            try:\n",
    "                texto_documento = ''\n",
    "                # Open the PDF file\n",
    "                pdf = PDFx(caminho_arquivo)\n",
    "                texto_documento += pdf.get_text()\n",
    "                nome_documento = os.path.splitext(arquivo)[0]#nome do documento\n",
    "\n",
    "                # Adiciona o nome do documento e o texto à lista de documentos\n",
    "                #df_texto = df_texto.append(, ignore_index=True)\n",
    "                df_texto = pd.concat([df_texto, pd.DataFrame({'nome_documento': [nome_documento],'PDFX': [texto_documento]})], ignore_index=True)\n",
    "            except Exception as e:\n",
    "                print(f\"Erro ao processar o arquivo {caminho_arquivo}: {str(e)}\")\n",
    "end = time.time()\n"
   ]
  },
  {
   "cell_type": "code",
   "execution_count": 14,
   "metadata": {
    "colab": {
     "base_uri": "https://localhost:8080/",
     "height": 224
    },
    "id": "QPx28EV2h4AH",
    "outputId": "e4fba6af-2623-4c5d-c564-fc2050a1cdb9"
   },
   "outputs": [
    {
     "data": {
      "text/html": [
       "<div>\n",
       "<style scoped>\n",
       "    .dataframe tbody tr th:only-of-type {\n",
       "        vertical-align: middle;\n",
       "    }\n",
       "\n",
       "    .dataframe tbody tr th {\n",
       "        vertical-align: top;\n",
       "    }\n",
       "\n",
       "    .dataframe thead th {\n",
       "        text-align: right;\n",
       "    }\n",
       "</style>\n",
       "<table border=\"1\" class=\"dataframe\">\n",
       "  <thead>\n",
       "    <tr style=\"text-align: right;\">\n",
       "      <th></th>\n",
       "      <th>nome_documento</th>\n",
       "      <th>PDFX</th>\n",
       "    </tr>\n",
       "  </thead>\n",
       "  <tbody>\n",
       "    <tr>\n",
       "      <th>0</th>\n",
       "      <td>Extrasensory_Perception_Research_Finding</td>\n",
       "      <td>Extrasensory Perception: \\nResearch Findings \\...</td>\n",
       "    </tr>\n",
       "    <tr>\n",
       "      <th>1</th>\n",
       "      <td>9788523211806</td>\n",
       "      <td>Diálogo entre a sociologia e a psicanálise  \\n...</td>\n",
       "    </tr>\n",
       "    <tr>\n",
       "      <th>2</th>\n",
       "      <td>Iracema-Jose-de-Alencar</td>\n",
       "      <td>IRACEMA\\n\\nJOSÉ DE ALENCAR\\n\\n \\n \\n \\n \\n \\n...</td>\n",
       "    </tr>\n",
       "    <tr>\n",
       "      <th>3</th>\n",
       "      <td>oparaisoperdido</td>\n",
       "      <td>V\\n\\nJohn Milton\\n\\nUNIVERSIDADE\\nDE BOLSO\\n\\n...</td>\n",
       "    </tr>\n",
       "    <tr>\n",
       "      <th>4</th>\n",
       "      <td>historiatradsp1954vol3</td>\n",
       "      <td>i \\n\\nI \\n\\n\f",
       "\f",
       "1  —  H.  e  Tradições  —  V...</td>\n",
       "    </tr>\n",
       "  </tbody>\n",
       "</table>\n",
       "</div>"
      ],
      "text/plain": [
       "                             nome_documento  \\\n",
       "0  Extrasensory_Perception_Research_Finding   \n",
       "1                             9788523211806   \n",
       "2                   Iracema-Jose-de-Alencar   \n",
       "3                           oparaisoperdido   \n",
       "4                    historiatradsp1954vol3   \n",
       "\n",
       "                                                PDFX  \n",
       "0  Extrasensory Perception: \\nResearch Findings \\...  \n",
       "1  Diálogo entre a sociologia e a psicanálise  \\n...  \n",
       "2  \n",
       "IRACEMA\\n\\nJOSÉ DE ALENCAR\\n\\n \\n \\n \\n \\n \\n...  \n",
       "3  V\\n\\nJohn Milton\\n\\nUNIVERSIDADE\\nDE BOLSO\\n\\n...  \n",
       "4  \n",
       "\n",
       "\n",
       "\n",
       "i \\n\\nI \\n\\n\n",
       "\n",
       "1  —  H.  e  Tradições  —  V...  "
      ]
     },
     "execution_count": 14,
     "metadata": {},
     "output_type": "execute_result"
    }
   ],
   "source": [
    "df_texto"
   ]
  },
  {
   "cell_type": "code",
   "execution_count": 15,
   "metadata": {
    "id": "-zTXG3O6HiNU"
   },
   "outputs": [],
   "source": [
    "tempo=[end-start]\n",
    "df_tempo = pd.concat([df_tempo,pd.DataFrame({'nome':'PDFX', 'tempo': tempo})],ignore_index=True)"
   ]
  },
  {
   "cell_type": "code",
   "execution_count": 16,
   "metadata": {},
   "outputs": [
    {
     "data": {
      "text/html": [
       "<div>\n",
       "<style scoped>\n",
       "    .dataframe tbody tr th:only-of-type {\n",
       "        vertical-align: middle;\n",
       "    }\n",
       "\n",
       "    .dataframe tbody tr th {\n",
       "        vertical-align: top;\n",
       "    }\n",
       "\n",
       "    .dataframe thead th {\n",
       "        text-align: right;\n",
       "    }\n",
       "</style>\n",
       "<table border=\"1\" class=\"dataframe\">\n",
       "  <thead>\n",
       "    <tr style=\"text-align: right;\">\n",
       "      <th></th>\n",
       "      <th>nome</th>\n",
       "      <th>tempo</th>\n",
       "    </tr>\n",
       "  </thead>\n",
       "  <tbody>\n",
       "    <tr>\n",
       "      <th>0</th>\n",
       "      <td>OCR</td>\n",
       "      <td>540.501901</td>\n",
       "    </tr>\n",
       "    <tr>\n",
       "      <th>1</th>\n",
       "      <td>PDFX</td>\n",
       "      <td>49.075683</td>\n",
       "    </tr>\n",
       "  </tbody>\n",
       "</table>\n",
       "</div>"
      ],
      "text/plain": [
       "   nome       tempo\n",
       "0   OCR  540.501901\n",
       "1  PDFX   49.075683"
      ]
     },
     "execution_count": 16,
     "metadata": {},
     "output_type": "execute_result"
    }
   ],
   "source": [
    "df_tempo"
   ]
  },
  {
   "cell_type": "code",
   "execution_count": 17,
   "metadata": {},
   "outputs": [],
   "source": [
    "# df_tempo = df_tempo.drop(2)"
   ]
  },
  {
   "cell_type": "markdown",
   "metadata": {
    "id": "BN_QP61VLBQM"
   },
   "source": [
    "Ferramenta - PyMuPDF ✔️\n",
    "\n"
   ]
  },
  {
   "cell_type": "code",
   "execution_count": 18,
   "metadata": {},
   "outputs": [],
   "source": [
    "PyMuPDF = []"
   ]
  },
  {
   "cell_type": "code",
   "execution_count": 19,
   "metadata": {
    "id": "P26t9iMxF2Nl"
   },
   "outputs": [
    {
     "name": "stderr",
     "output_type": "stream",
     "text": [
      "Diretorio da Pasta: 0it [00:00, ?it/s]\n",
      "Extraindo texto dos arquivados: 100%|██████████| 2/2 [00:00<00:00, 49344.75it/s]\n"
     ]
    },
    {
     "name": "stdout",
     "output_type": "stream",
     "text": [
      "kernel-NVIDIA_RTX_A5500.bin\n",
      "tesseract_opencl_profile_devices.dat\n"
     ]
    },
    {
     "name": "stderr",
     "output_type": "stream",
     "text": [
      "\n",
      "Extraindo texto dos arquivados:   0%|          | 0/2 [00:00<?, ?it/s]\u001b[A"
     ]
    },
    {
     "name": "stdout",
     "output_type": "stream",
     "text": [
      "Extrasensory_Perception_Research_Finding.pdf\n"
     ]
    },
    {
     "name": "stderr",
     "output_type": "stream",
     "text": [
      "\n",
      "Extraindo texto dos arquivados: 100%|██████████| 2/2 [00:00<00:00,  3.76it/s]\u001b[A\n",
      "Diretorio da Pasta: 2it [00:00,  3.75it/s]"
     ]
    },
    {
     "name": "stdout",
     "output_type": "stream",
     "text": [
      "Extrasensory_Perception_Research_Finding_djvu.txt\n"
     ]
    },
    {
     "name": "stderr",
     "output_type": "stream",
     "text": [
      "\n",
      "Extraindo texto dos arquivados:   0%|          | 0/2 [00:00<?, ?it/s]\u001b[A"
     ]
    },
    {
     "name": "stdout",
     "output_type": "stream",
     "text": [
      "9788523211806_djvu.txt\n",
      "9788523211806.pdf\n"
     ]
    },
    {
     "name": "stderr",
     "output_type": "stream",
     "text": [
      "\n",
      "Extraindo texto dos arquivados: 100%|██████████| 2/2 [00:00<00:00,  3.58it/s]\u001b[A\n",
      "Diretorio da Pasta: 3it [00:01,  2.57it/s]\n",
      "Extraindo texto dos arquivados:   0%|          | 0/4 [00:00<?, ?it/s]\u001b[A\n",
      "Extraindo texto dos arquivados: 100%|██████████| 4/4 [00:00<00:00, 36.32it/s]\u001b[A\n",
      "Diretorio da Pasta: 4it [00:01,  3.49it/s]"
     ]
    },
    {
     "name": "stdout",
     "output_type": "stream",
     "text": [
      "Iracema-Jose-de-Alencar_hocr_searchtext.txt.gz\n",
      "Iracema-Jose-de-Alencar_hocr_pageindex.json.gz\n",
      "Iracema-Jose-de-Alencar_djvu.txt\n",
      "Iracema-Jose-de-Alencar.pdf\n"
     ]
    },
    {
     "name": "stderr",
     "output_type": "stream",
     "text": [
      "\n",
      "Extraindo texto dos arquivados:   0%|          | 0/2 [00:00<?, ?it/s]\u001b[A"
     ]
    },
    {
     "name": "stdout",
     "output_type": "stream",
     "text": [
      "O Para#U00edso Perdido - John Milton (Ediouro)_djvu.txt\n",
      "oparaisoperdido.pdf\n"
     ]
    },
    {
     "name": "stderr",
     "output_type": "stream",
     "text": [
      "\n",
      "Extraindo texto dos arquivados: 100%|██████████| 2/2 [00:00<00:00,  2.11it/s]\u001b[A\n",
      "Diretorio da Pasta: 5it [00:02,  1.94it/s]\n",
      "Extraindo texto dos arquivados: 0it [00:00, ?it/s]\u001b[A\n",
      "\n",
      "Extraindo texto dos arquivados:   0%|          | 0/4 [00:00<?, ?it/s]\u001b[A"
     ]
    },
    {
     "name": "stdout",
     "output_type": "stream",
     "text": [
      "historiatradsp1954vol3.pdf\n"
     ]
    },
    {
     "name": "stderr",
     "output_type": "stream",
     "text": [
      "\n",
      "Extraindo texto dos arquivados: 100%|██████████| 4/4 [00:00<00:00,  9.46it/s]\u001b[A\n",
      "Diretorio da Pasta: 7it [00:02,  2.71it/s]"
     ]
    },
    {
     "name": "stdout",
     "output_type": "stream",
     "text": [
      "historiatradsp1954vol3_djvu.txt\n",
      "historiatradsp1954vol3_hocr_pageindex.json.gz\n",
      "historiatradsp1954vol3_hocr_searchtext.txt.gz\n"
     ]
    },
    {
     "name": "stderr",
     "output_type": "stream",
     "text": [
      "\n"
     ]
    }
   ],
   "source": [
    "# Percorre todos os arquivos na pasta\n",
    "start = time.time()\n",
    "for pasta_raiz, _, arquivos in tqdm(os.walk(diretorio_pasta), desc = \"Diretorio da Pasta\"):\n",
    "    for arquivo in tqdm(arquivos, desc=\"Extraindo texto dos arquivados\"):\n",
    "        print(arquivo)\n",
    "        if arquivo.endswith('.pdf'):\n",
    "            caminho_arquivo = os.path.join(pasta_raiz, arquivo)\n",
    "            try:\n",
    "              # Extrai texto do documento PDF usando PyMUPDF\n",
    "                texto_documento = ''\n",
    "                with fitz.open(caminho_arquivo) as pdf:\n",
    "                    for pagina in pdf:\n",
    "                        texto_documento += pagina.get_text()\n",
    "\n",
    "                nome_documento = os.path.splitext(arquivo)[0]#nome do documento\n",
    "\n",
    "                # Adiciona o nome do documento e o texto à lista de documentos\n",
    "                # df_texto = pd.concat([df_texto, pd.DataFrame({'PyMuPDF': [texto_documento]})], ignore_index=True)\n",
    "                PyMuPDF.append(texto_documento)\n",
    "            except Exception as e:\n",
    "                print(f\"Erro ao processar o arquivo {caminho_arquivo}: {str(e)}\")\n",
    "end = time.time()\n",
    "\n"
   ]
  },
  {
   "cell_type": "code",
   "execution_count": 20,
   "metadata": {
    "id": "P1Qsbn3dLDiv"
   },
   "outputs": [],
   "source": [
    "# df_texto\n",
    "# PyMuPDF"
   ]
  },
  {
   "cell_type": "code",
   "execution_count": 21,
   "metadata": {
    "id": "zvjAxyDaITCY"
   },
   "outputs": [],
   "source": [
    "tempo=[end-start]\n",
    "df_tempo = pd.concat([df_tempo,pd.DataFrame({'nome':'PyMuPDF', 'tempo': tempo})],ignore_index=True)"
   ]
  },
  {
   "cell_type": "code",
   "execution_count": 22,
   "metadata": {},
   "outputs": [
    {
     "data": {
      "text/html": [
       "<div>\n",
       "<style scoped>\n",
       "    .dataframe tbody tr th:only-of-type {\n",
       "        vertical-align: middle;\n",
       "    }\n",
       "\n",
       "    .dataframe tbody tr th {\n",
       "        vertical-align: top;\n",
       "    }\n",
       "\n",
       "    .dataframe thead th {\n",
       "        text-align: right;\n",
       "    }\n",
       "</style>\n",
       "<table border=\"1\" class=\"dataframe\">\n",
       "  <thead>\n",
       "    <tr style=\"text-align: right;\">\n",
       "      <th></th>\n",
       "      <th>nome</th>\n",
       "      <th>tempo</th>\n",
       "    </tr>\n",
       "  </thead>\n",
       "  <tbody>\n",
       "    <tr>\n",
       "      <th>0</th>\n",
       "      <td>OCR</td>\n",
       "      <td>540.501901</td>\n",
       "    </tr>\n",
       "    <tr>\n",
       "      <th>1</th>\n",
       "      <td>PDFX</td>\n",
       "      <td>49.075683</td>\n",
       "    </tr>\n",
       "    <tr>\n",
       "      <th>2</th>\n",
       "      <td>PyMuPDF</td>\n",
       "      <td>2.586055</td>\n",
       "    </tr>\n",
       "  </tbody>\n",
       "</table>\n",
       "</div>"
      ],
      "text/plain": [
       "      nome       tempo\n",
       "0      OCR  540.501901\n",
       "1     PDFX   49.075683\n",
       "2  PyMuPDF    2.586055"
      ]
     },
     "execution_count": 22,
     "metadata": {},
     "output_type": "execute_result"
    }
   ],
   "source": [
    "df_tempo"
   ]
  },
  {
   "cell_type": "code",
   "execution_count": 23,
   "metadata": {},
   "outputs": [
    {
     "data": {
      "text/html": [
       "<div>\n",
       "<style scoped>\n",
       "    .dataframe tbody tr th:only-of-type {\n",
       "        vertical-align: middle;\n",
       "    }\n",
       "\n",
       "    .dataframe tbody tr th {\n",
       "        vertical-align: top;\n",
       "    }\n",
       "\n",
       "    .dataframe thead th {\n",
       "        text-align: right;\n",
       "    }\n",
       "</style>\n",
       "<table border=\"1\" class=\"dataframe\">\n",
       "  <thead>\n",
       "    <tr style=\"text-align: right;\">\n",
       "      <th></th>\n",
       "      <th>nome_documento</th>\n",
       "      <th>PDFX</th>\n",
       "      <th>PyMuPDF</th>\n",
       "    </tr>\n",
       "  </thead>\n",
       "  <tbody>\n",
       "    <tr>\n",
       "      <th>0</th>\n",
       "      <td>Extrasensory_Perception_Research_Finding</td>\n",
       "      <td>Extrasensory Perception: \\nResearch Findings \\...</td>\n",
       "      <td>Extrasensory Perception: \\n2 \\nResearch Findin...</td>\n",
       "    </tr>\n",
       "    <tr>\n",
       "      <th>1</th>\n",
       "      <td>9788523211806</td>\n",
       "      <td>Diálogo entre a sociologia e a psicanálise  \\n...</td>\n",
       "      <td>\\nSciELO Books / SciELO Livros / SciELO Libro...</td>\n",
       "    </tr>\n",
       "    <tr>\n",
       "      <th>2</th>\n",
       "      <td>Iracema-Jose-de-Alencar</td>\n",
       "      <td>IRACEMA\\n\\nJOSÉ DE ALENCAR\\n\\n \\n \\n \\n \\n \\n...</td>\n",
       "      <td>\\n \\n \\n \\n \\n \\n \\n \\n \\nIRACEMA\\nJOSÉ DE AL...</td>\n",
       "    </tr>\n",
       "    <tr>\n",
       "      <th>3</th>\n",
       "      <td>oparaisoperdido</td>\n",
       "      <td>V\\n\\nJohn Milton\\n\\nUNIVERSIDADE\\nDE BOLSO\\n\\n...</td>\n",
       "      <td>V\\nUNIVERSIDADE\\nDE BOLSO\\nJohn Milton\\nO Para...</td>\n",
       "    </tr>\n",
       "    <tr>\n",
       "      <th>4</th>\n",
       "      <td>historiatradsp1954vol3</td>\n",
       "      <td>i \\n\\nI \\n\\n\f",
       "\f",
       "1  —  H.  e  Tradições  —  V...</td>\n",
       "      <td>i \\nI \\n1  —  H.  e  Tradições  —  Vol.  3.» \\...</td>\n",
       "    </tr>\n",
       "  </tbody>\n",
       "</table>\n",
       "</div>"
      ],
      "text/plain": [
       "                             nome_documento  \\\n",
       "0  Extrasensory_Perception_Research_Finding   \n",
       "1                             9788523211806   \n",
       "2                   Iracema-Jose-de-Alencar   \n",
       "3                           oparaisoperdido   \n",
       "4                    historiatradsp1954vol3   \n",
       "\n",
       "                                                PDFX  \\\n",
       "0  Extrasensory Perception: \\nResearch Findings \\...   \n",
       "1  Diálogo entre a sociologia e a psicanálise  \\n...   \n",
       "2  \n",
       "IRACEMA\\n\\nJOSÉ DE ALENCAR\\n\\n \\n \\n \\n \\n \\n...   \n",
       "3  V\\n\\nJohn Milton\\n\\nUNIVERSIDADE\\nDE BOLSO\\n\\n...   \n",
       "4  \n",
       "\n",
       "\n",
       "\n",
       "i \\n\\nI \\n\\n\n",
       "\n",
       "1  —  H.  e  Tradições  —  V...   \n",
       "\n",
       "                                             PyMuPDF  \n",
       "0  Extrasensory Perception: \\n2 \\nResearch Findin...  \n",
       "1   \\nSciELO Books / SciELO Livros / SciELO Libro...  \n",
       "2   \\n \\n \\n \\n \\n \\n \\n \\n \\nIRACEMA\\nJOSÉ DE AL...  \n",
       "3  V\\nUNIVERSIDADE\\nDE BOLSO\\nJohn Milton\\nO Para...  \n",
       "4  i \\nI \\n1  —  H.  e  Tradições  —  Vol.  3.» \\...  "
      ]
     },
     "execution_count": 23,
     "metadata": {},
     "output_type": "execute_result"
    }
   ],
   "source": [
    "df_texto['PyMuPDF'] = PyMuPDF\n",
    "df_texto"
   ]
  },
  {
   "cell_type": "markdown",
   "metadata": {
    "id": "M4Df9c8GLBZi"
   },
   "source": [
    "Ferramenta 04 - PyPdf2 ✔️"
   ]
  },
  {
   "cell_type": "code",
   "execution_count": 24,
   "metadata": {},
   "outputs": [],
   "source": [
    "list_PyPdf2 = []"
   ]
  },
  {
   "cell_type": "code",
   "execution_count": 25,
   "metadata": {
    "id": "g9fwZZCNGArZ"
   },
   "outputs": [
    {
     "name": "stderr",
     "output_type": "stream",
     "text": [
      "Diretorio da Pasta: 0it [00:00, ?it/s]\n",
      "Extraindo texto dos arquivados: 100%|██████████| 2/2 [00:00<00:00, 50840.05it/s]\n"
     ]
    },
    {
     "name": "stdout",
     "output_type": "stream",
     "text": [
      "kernel-NVIDIA_RTX_A5500.bin\n",
      "tesseract_opencl_profile_devices.dat\n"
     ]
    },
    {
     "name": "stderr",
     "output_type": "stream",
     "text": [
      "\n",
      "Extraindo texto dos arquivados:   0%|          | 0/2 [00:00<?, ?it/s]\u001b[A"
     ]
    },
    {
     "name": "stdout",
     "output_type": "stream",
     "text": [
      "Extrasensory_Perception_Research_Finding.pdf\n"
     ]
    },
    {
     "name": "stderr",
     "output_type": "stream",
     "text": [
      "\n",
      "Extraindo texto dos arquivados: 100%|██████████| 2/2 [00:03<00:00,  1.91s/it]\u001b[A\n",
      "Diretorio da Pasta: 2it [00:03,  1.91s/it]"
     ]
    },
    {
     "name": "stdout",
     "output_type": "stream",
     "text": [
      "Extrasensory_Perception_Research_Finding_djvu.txt\n"
     ]
    },
    {
     "name": "stderr",
     "output_type": "stream",
     "text": [
      "\n",
      "Extraindo texto dos arquivados:   0%|          | 0/2 [00:00<?, ?it/s]\u001b[A"
     ]
    },
    {
     "name": "stdout",
     "output_type": "stream",
     "text": [
      "9788523211806_djvu.txt\n",
      "9788523211806.pdf\n"
     ]
    },
    {
     "name": "stderr",
     "output_type": "stream",
     "text": [
      "\n",
      "Extraindo texto dos arquivados: 100%|██████████| 2/2 [00:05<00:00,  2.83s/it]\u001b[A\n",
      "Diretorio da Pasta: 3it [00:09,  3.47s/it]\n",
      "Extraindo texto dos arquivados:   0%|          | 0/4 [00:00<?, ?it/s]\u001b[A"
     ]
    },
    {
     "name": "stdout",
     "output_type": "stream",
     "text": [
      "Iracema-Jose-de-Alencar_hocr_searchtext.txt.gz\n",
      "Iracema-Jose-de-Alencar_hocr_pageindex.json.gz\n",
      "Iracema-Jose-de-Alencar_djvu.txt\n",
      "Iracema-Jose-de-Alencar.pdf\n"
     ]
    },
    {
     "name": "stderr",
     "output_type": "stream",
     "text": [
      "\n",
      "Extraindo texto dos arquivados: 100%|██████████| 4/4 [00:02<00:00,  1.89it/s]\u001b[A\n",
      "Diretorio da Pasta: 4it [00:11,  2.97s/it]\n",
      "Extraindo texto dos arquivados:   0%|          | 0/2 [00:00<?, ?it/s]\u001b[A"
     ]
    },
    {
     "name": "stdout",
     "output_type": "stream",
     "text": [
      "O Para#U00edso Perdido - John Milton (Ediouro)_djvu.txt\n",
      "oparaisoperdido.pdf\n"
     ]
    },
    {
     "name": "stderr",
     "output_type": "stream",
     "text": [
      "\n",
      "Extraindo texto dos arquivados: 100%|██████████| 2/2 [00:09<00:00,  4.84s/it]\u001b[A\n",
      "Diretorio da Pasta: 5it [00:21,  5.30s/it]\n",
      "Extraindo texto dos arquivados: 0it [00:00, ?it/s]\u001b[A\n",
      "\n",
      "Extraindo texto dos arquivados:   0%|          | 0/4 [00:00<?, ?it/s]\u001b[A"
     ]
    },
    {
     "name": "stdout",
     "output_type": "stream",
     "text": [
      "historiatradsp1954vol3.pdf\n"
     ]
    },
    {
     "name": "stderr",
     "output_type": "stream",
     "text": [
      "\n",
      "Extraindo texto dos arquivados: 100%|██████████| 4/4 [00:55<00:00, 13.77s/it]\u001b[A\n",
      "Diretorio da Pasta: 7it [01:16, 10.91s/it]"
     ]
    },
    {
     "name": "stdout",
     "output_type": "stream",
     "text": [
      "historiatradsp1954vol3_djvu.txt\n",
      "historiatradsp1954vol3_hocr_pageindex.json.gz\n",
      "historiatradsp1954vol3_hocr_searchtext.txt.gz\n"
     ]
    },
    {
     "name": "stderr",
     "output_type": "stream",
     "text": [
      "\n"
     ]
    }
   ],
   "source": [
    "# Percorre todos os arquivos na pasta\n",
    "start = time.time()\n",
    "for pasta_raiz, _, arquivos in tqdm(os.walk(diretorio_pasta), desc = \"Diretorio da Pasta\"):\n",
    "    for arquivo in tqdm(arquivos, desc=\"Extraindo texto dos arquivados\"):\n",
    "        print(arquivo)\n",
    "        if arquivo.endswith('.pdf'):\n",
    "            caminho_arquivo = os.path.join(pasta_raiz, arquivo)\n",
    "            try:\n",
    "               # Extrai texto do documento PDF usando PyPdf2\n",
    "                texto_documento = ''\n",
    "                with open(caminho_arquivo, 'rb') as pdf:\n",
    "                    #Create a PDF reader\n",
    "                    pdf_reader = PyPDF2.PdfReader(pdf)\n",
    "                    # Get the number of pages in the PDF\n",
    "                    num_pages = len(pdf_reader.pages)\n",
    "                    # Iterate over the pages\n",
    "                    for page_num in range(num_pages):\n",
    "                       page = pdf_reader.pages[page_num]\n",
    "                       # Extract the text from the page\n",
    "                       texto_documento +=  page.extract_text()\n",
    "                    pdf.close()\n",
    "                nome_documento = os.path.splitext(arquivo)[0]#nome do documento\n",
    "\n",
    "                # Adiciona o nome do documento e o texto à lista de documentos\n",
    "                # df_texto = pd.concat([df_texto, pd.DataFrame({'nome_documento': nome_documento,'PyPdf2': texto_documento})], ignore_index=True)\n",
    "                list_PyPdf2.append(texto_documento)\n",
    "            except Exception as e:\n",
    "                print(f\"Erro ao processar o arquivo {caminho_arquivo}: {str(e)}\")\n",
    "end = time.time()"
   ]
  },
  {
   "cell_type": "code",
   "execution_count": 26,
   "metadata": {
    "id": "SwD4l_8bLEWx"
   },
   "outputs": [
    {
     "data": {
      "text/html": [
       "<div>\n",
       "<style scoped>\n",
       "    .dataframe tbody tr th:only-of-type {\n",
       "        vertical-align: middle;\n",
       "    }\n",
       "\n",
       "    .dataframe tbody tr th {\n",
       "        vertical-align: top;\n",
       "    }\n",
       "\n",
       "    .dataframe thead th {\n",
       "        text-align: right;\n",
       "    }\n",
       "</style>\n",
       "<table border=\"1\" class=\"dataframe\">\n",
       "  <thead>\n",
       "    <tr style=\"text-align: right;\">\n",
       "      <th></th>\n",
       "      <th>nome_documento</th>\n",
       "      <th>PDFX</th>\n",
       "      <th>PyMuPDF</th>\n",
       "      <th>PyPdf2</th>\n",
       "    </tr>\n",
       "  </thead>\n",
       "  <tbody>\n",
       "    <tr>\n",
       "      <th>0</th>\n",
       "      <td>Extrasensory_Perception_Research_Finding</td>\n",
       "      <td>Extrasensory Perception: \\nResearch Findings \\...</td>\n",
       "      <td>Extrasensory Perception: \\n2 \\nResearch Findin...</td>\n",
       "      <td>Extrasensory Perception: 2 \\nResearch Findings...</td>\n",
       "    </tr>\n",
       "    <tr>\n",
       "      <th>1</th>\n",
       "      <td>9788523211806</td>\n",
       "      <td>Diálogo entre a sociologia e a psicanálise  \\n...</td>\n",
       "      <td>\\nSciELO Books / SciELO Livros / SciELO Libro...</td>\n",
       "      <td>\\nSciELO Books / SciELO Livros / SciELO Libro...</td>\n",
       "    </tr>\n",
       "    <tr>\n",
       "      <th>2</th>\n",
       "      <td>Iracema-Jose-de-Alencar</td>\n",
       "      <td>IRACEMA\\n\\nJOSÉ DE ALENCAR\\n\\n \\n \\n \\n \\n \\n...</td>\n",
       "      <td>\\n \\n \\n \\n \\n \\n \\n \\n \\nIRACEMA\\nJOSÉ DE AL...</td>\n",
       "      <td>\\n \\n \\n \\n \\n \\n \\n \\n \\nIRACEMA\\nJOSÉ DE AL...</td>\n",
       "    </tr>\n",
       "    <tr>\n",
       "      <th>3</th>\n",
       "      <td>oparaisoperdido</td>\n",
       "      <td>V\\n\\nJohn Milton\\n\\nUNIVERSIDADE\\nDE BOLSO\\n\\n...</td>\n",
       "      <td>V\\nUNIVERSIDADE\\nDE BOLSO\\nJohn Milton\\nO Para...</td>\n",
       "      <td>V\\nUNIVERSIDADE\\nDE BOLSOJohn  Milton\\nO Paraí...</td>\n",
       "    </tr>\n",
       "    <tr>\n",
       "      <th>4</th>\n",
       "      <td>historiatradsp1954vol3</td>\n",
       "      <td>i \\n\\nI \\n\\n\f",
       "\f",
       "1  —  H.  e  Tradições  —  V...</td>\n",
       "      <td>i \\nI \\n1  —  H.  e  Tradições  —  Vol.  3.» \\...</td>\n",
       "      <td>i \\nI \\n1  —  H.  e  Tradições  —  Vol.  3.» \\...</td>\n",
       "    </tr>\n",
       "  </tbody>\n",
       "</table>\n",
       "</div>"
      ],
      "text/plain": [
       "                             nome_documento  \\\n",
       "0  Extrasensory_Perception_Research_Finding   \n",
       "1                             9788523211806   \n",
       "2                   Iracema-Jose-de-Alencar   \n",
       "3                           oparaisoperdido   \n",
       "4                    historiatradsp1954vol3   \n",
       "\n",
       "                                                PDFX  \\\n",
       "0  Extrasensory Perception: \\nResearch Findings \\...   \n",
       "1  Diálogo entre a sociologia e a psicanálise  \\n...   \n",
       "2  \n",
       "IRACEMA\\n\\nJOSÉ DE ALENCAR\\n\\n \\n \\n \\n \\n \\n...   \n",
       "3  V\\n\\nJohn Milton\\n\\nUNIVERSIDADE\\nDE BOLSO\\n\\n...   \n",
       "4  \n",
       "\n",
       "\n",
       "\n",
       "i \\n\\nI \\n\\n\n",
       "\n",
       "1  —  H.  e  Tradições  —  V...   \n",
       "\n",
       "                                             PyMuPDF  \\\n",
       "0  Extrasensory Perception: \\n2 \\nResearch Findin...   \n",
       "1   \\nSciELO Books / SciELO Livros / SciELO Libro...   \n",
       "2   \\n \\n \\n \\n \\n \\n \\n \\n \\nIRACEMA\\nJOSÉ DE AL...   \n",
       "3  V\\nUNIVERSIDADE\\nDE BOLSO\\nJohn Milton\\nO Para...   \n",
       "4  i \\nI \\n1  —  H.  e  Tradições  —  Vol.  3.» \\...   \n",
       "\n",
       "                                              PyPdf2  \n",
       "0  Extrasensory Perception: 2 \\nResearch Findings...  \n",
       "1   \\nSciELO Books / SciELO Livros / SciELO Libro...  \n",
       "2   \\n \\n \\n \\n \\n \\n \\n \\n \\nIRACEMA\\nJOSÉ DE AL...  \n",
       "3  V\\nUNIVERSIDADE\\nDE BOLSOJohn  Milton\\nO Paraí...  \n",
       "4  i \\nI \\n1  —  H.  e  Tradições  —  Vol.  3.» \\...  "
      ]
     },
     "execution_count": 26,
     "metadata": {},
     "output_type": "execute_result"
    }
   ],
   "source": [
    "df_texto['PyPdf2'] = list_PyPdf2\n",
    "df_texto"
   ]
  },
  {
   "cell_type": "code",
   "execution_count": 27,
   "metadata": {
    "id": "YYz9ZW4lIV2z"
   },
   "outputs": [],
   "source": [
    "tempo=[end-start]\n",
    "df_tempo = pd.concat([df_tempo,pd.DataFrame({'nome':'PyPdf2', 'tempo': tempo})], ignore_index=True)"
   ]
  },
  {
   "cell_type": "code",
   "execution_count": 28,
   "metadata": {},
   "outputs": [
    {
     "data": {
      "text/html": [
       "<div>\n",
       "<style scoped>\n",
       "    .dataframe tbody tr th:only-of-type {\n",
       "        vertical-align: middle;\n",
       "    }\n",
       "\n",
       "    .dataframe tbody tr th {\n",
       "        vertical-align: top;\n",
       "    }\n",
       "\n",
       "    .dataframe thead th {\n",
       "        text-align: right;\n",
       "    }\n",
       "</style>\n",
       "<table border=\"1\" class=\"dataframe\">\n",
       "  <thead>\n",
       "    <tr style=\"text-align: right;\">\n",
       "      <th></th>\n",
       "      <th>nome</th>\n",
       "      <th>tempo</th>\n",
       "    </tr>\n",
       "  </thead>\n",
       "  <tbody>\n",
       "    <tr>\n",
       "      <th>0</th>\n",
       "      <td>OCR</td>\n",
       "      <td>540.501901</td>\n",
       "    </tr>\n",
       "    <tr>\n",
       "      <th>1</th>\n",
       "      <td>PDFX</td>\n",
       "      <td>49.075683</td>\n",
       "    </tr>\n",
       "    <tr>\n",
       "      <th>2</th>\n",
       "      <td>PyMuPDF</td>\n",
       "      <td>2.586055</td>\n",
       "    </tr>\n",
       "    <tr>\n",
       "      <th>3</th>\n",
       "      <td>PyPdf2</td>\n",
       "      <td>76.383644</td>\n",
       "    </tr>\n",
       "  </tbody>\n",
       "</table>\n",
       "</div>"
      ],
      "text/plain": [
       "      nome       tempo\n",
       "0      OCR  540.501901\n",
       "1     PDFX   49.075683\n",
       "2  PyMuPDF    2.586055\n",
       "3   PyPdf2   76.383644"
      ]
     },
     "execution_count": 28,
     "metadata": {},
     "output_type": "execute_result"
    }
   ],
   "source": [
    "df_tempo "
   ]
  },
  {
   "cell_type": "markdown",
   "metadata": {
    "id": "9ZtyxfqMLDBQ"
   },
   "source": [
    "Ferramenta 05 - PyTesseract ❗\n"
   ]
  },
  {
   "cell_type": "code",
   "execution_count": 29,
   "metadata": {
    "colab": {
     "base_uri": "https://localhost:8080/"
    },
    "id": "g73cfSihspxi",
    "outputId": "4731a9dc-3a60-409e-d2ff-efe561af07d4"
   },
   "outputs": [],
   "source": [
    "def extract_text_with_pytesseract(list_dict_final_images):\n",
    "\n",
    "    image_list = [list(data.values())[0] for data in list_dict_final_images]\n",
    "    image_content = []\n",
    "\n",
    "    for index, image_bytes in enumerate(image_list):\n",
    "\n",
    "        image = Image.open(BytesIO(image_bytes))\n",
    "        raw_text = str(image_to_string(image))\n",
    "        image_content.append(raw_text)\n",
    "\n",
    "    return \"\\n\".join(image_content)"
   ]
  },
  {
   "cell_type": "code",
   "execution_count": 30,
   "metadata": {},
   "outputs": [],
   "source": [
    "list_Pytesseract = []"
   ]
  },
  {
   "cell_type": "code",
   "execution_count": 31,
   "metadata": {
    "id": "0aMlCx7hJiOL"
   },
   "outputs": [],
   "source": [
    "start = time.time()\n",
    "for i in lista_imagens:\n",
    "  text_with_pytesseract = extract_text_with_pytesseract(i)\n",
    "  #Limpar a Memoria - Obs\n",
    "  # df_texto = pd.concat([df_texto, pd.DataFrame({'PyTesseract':text_with_pytesseract })], ignore_index=True)\n",
    "  list_Pytesseract.append(text_with_pytesseract)\n",
    "end = time.time()"
   ]
  },
  {
   "cell_type": "code",
   "execution_count": 32,
   "metadata": {
    "id": "xBselpAgN-G0"
   },
   "outputs": [
    {
     "data": {
      "text/plain": [
       "[3545.3216552734375]"
      ]
     },
     "execution_count": 32,
     "metadata": {},
     "output_type": "execute_result"
    }
   ],
   "source": [
    "tempo=[end-start]\n",
    "tempo"
   ]
  },
  {
   "cell_type": "code",
   "execution_count": 33,
   "metadata": {},
   "outputs": [
    {
     "data": {
      "text/html": [
       "<div>\n",
       "<style scoped>\n",
       "    .dataframe tbody tr th:only-of-type {\n",
       "        vertical-align: middle;\n",
       "    }\n",
       "\n",
       "    .dataframe tbody tr th {\n",
       "        vertical-align: top;\n",
       "    }\n",
       "\n",
       "    .dataframe thead th {\n",
       "        text-align: right;\n",
       "    }\n",
       "</style>\n",
       "<table border=\"1\" class=\"dataframe\">\n",
       "  <thead>\n",
       "    <tr style=\"text-align: right;\">\n",
       "      <th></th>\n",
       "      <th>nome</th>\n",
       "      <th>tempo</th>\n",
       "    </tr>\n",
       "  </thead>\n",
       "  <tbody>\n",
       "    <tr>\n",
       "      <th>0</th>\n",
       "      <td>OCR</td>\n",
       "      <td>540.501901</td>\n",
       "    </tr>\n",
       "    <tr>\n",
       "      <th>1</th>\n",
       "      <td>PDFX</td>\n",
       "      <td>49.075683</td>\n",
       "    </tr>\n",
       "    <tr>\n",
       "      <th>2</th>\n",
       "      <td>PyMuPDF</td>\n",
       "      <td>2.586055</td>\n",
       "    </tr>\n",
       "    <tr>\n",
       "      <th>3</th>\n",
       "      <td>PyPdf2</td>\n",
       "      <td>76.383644</td>\n",
       "    </tr>\n",
       "    <tr>\n",
       "      <th>4</th>\n",
       "      <td>Pytesseract</td>\n",
       "      <td>3545.321655</td>\n",
       "    </tr>\n",
       "  </tbody>\n",
       "</table>\n",
       "</div>"
      ],
      "text/plain": [
       "          nome        tempo\n",
       "0          OCR   540.501901\n",
       "1         PDFX    49.075683\n",
       "2      PyMuPDF     2.586055\n",
       "3       PyPdf2    76.383644\n",
       "4  Pytesseract  3545.321655"
      ]
     },
     "execution_count": 33,
     "metadata": {},
     "output_type": "execute_result"
    }
   ],
   "source": [
    "df_tempo = pd.concat([df_tempo,pd.DataFrame({'nome':'Pytesseract', 'tempo': tempo})],ignore_index=True)\n",
    "df_tempo"
   ]
  },
  {
   "cell_type": "code",
   "execution_count": 34,
   "metadata": {
    "id": "zWTOWoDHLHge"
   },
   "outputs": [
    {
     "data": {
      "text/html": [
       "<div>\n",
       "<style scoped>\n",
       "    .dataframe tbody tr th:only-of-type {\n",
       "        vertical-align: middle;\n",
       "    }\n",
       "\n",
       "    .dataframe tbody tr th {\n",
       "        vertical-align: top;\n",
       "    }\n",
       "\n",
       "    .dataframe thead th {\n",
       "        text-align: right;\n",
       "    }\n",
       "</style>\n",
       "<table border=\"1\" class=\"dataframe\">\n",
       "  <thead>\n",
       "    <tr style=\"text-align: right;\">\n",
       "      <th></th>\n",
       "      <th>nome_documento</th>\n",
       "      <th>PDFX</th>\n",
       "      <th>PyMuPDF</th>\n",
       "      <th>PyPdf2</th>\n",
       "      <th>Pytesseract-OCR</th>\n",
       "    </tr>\n",
       "  </thead>\n",
       "  <tbody>\n",
       "    <tr>\n",
       "      <th>0</th>\n",
       "      <td>Extrasensory_Perception_Research_Finding</td>\n",
       "      <td>Extrasensory Perception: \\nResearch Findings \\...</td>\n",
       "      <td>Extrasensory Perception: \\n2 \\nResearch Findin...</td>\n",
       "      <td>Extrasensory Perception: 2 \\nResearch Findings...</td>\n",
       "      <td>Extrasensory Perception: 2\\nResearch Findings\\...</td>\n",
       "    </tr>\n",
       "    <tr>\n",
       "      <th>1</th>\n",
       "      <td>9788523211806</td>\n",
       "      <td>Diálogo entre a sociologia e a psicanálise  \\n...</td>\n",
       "      <td>\\nSciELO Books / SciELO Livros / SciELO Libro...</td>\n",
       "      <td>\\nSciELO Books / SciELO Livros / SciELO Libro...</td>\n",
       "      <td>Sel O Books we\\n\\nDialogo entre a sociologia e...</td>\n",
       "    </tr>\n",
       "    <tr>\n",
       "      <th>2</th>\n",
       "      <td>Iracema-Jose-de-Alencar</td>\n",
       "      <td>IRACEMA\\n\\nJOSÉ DE ALENCAR\\n\\n \\n \\n \\n \\n \\n...</td>\n",
       "      <td>\\n \\n \\n \\n \\n \\n \\n \\n \\nIRACEMA\\nJOSÉ DE AL...</td>\n",
       "      <td>\\n \\n \\n \\n \\n \\n \\n \\n \\nIRACEMA\\nJOSÉ DE AL...</td>\n",
       "      <td>\\nIRACEMA\\n\\nJOSE DE ALENCAR\\n\\nCAPITULO 1\\n\\n...</td>\n",
       "    </tr>\n",
       "    <tr>\n",
       "      <th>3</th>\n",
       "      <td>oparaisoperdido</td>\n",
       "      <td>V\\n\\nJohn Milton\\n\\nUNIVERSIDADE\\nDE BOLSO\\n\\n...</td>\n",
       "      <td>V\\nUNIVERSIDADE\\nDE BOLSO\\nJohn Milton\\nO Para...</td>\n",
       "      <td>V\\nUNIVERSIDADE\\nDE BOLSOJohn  Milton\\nO Paraí...</td>\n",
       "      <td>o\\n\\n4 ti\\n\\nih a! Se se ee\\n\\n9/zos OHNOIG, &lt;...</td>\n",
       "    </tr>\n",
       "    <tr>\n",
       "      <th>4</th>\n",
       "      <td>historiatradsp1954vol3</td>\n",
       "      <td>i \\n\\nI \\n\\n\f",
       "\f",
       "1  —  H.  e  Tradições  —  V...</td>\n",
       "      <td>i \\nI \\n1  —  H.  e  Tradições  —  Vol.  3.» \\...</td>\n",
       "      <td>i \\nI \\n1  —  H.  e  Tradições  —  Vol.  3.» \\...</td>\n",
       "      <td>an\\nf\\n\\not\\n——Z\\n\\n\\n\\n\\n\\n\\n\\n1 — H. e Tradi...</td>\n",
       "    </tr>\n",
       "  </tbody>\n",
       "</table>\n",
       "</div>"
      ],
      "text/plain": [
       "                             nome_documento  \\\n",
       "0  Extrasensory_Perception_Research_Finding   \n",
       "1                             9788523211806   \n",
       "2                   Iracema-Jose-de-Alencar   \n",
       "3                           oparaisoperdido   \n",
       "4                    historiatradsp1954vol3   \n",
       "\n",
       "                                                PDFX  \\\n",
       "0  Extrasensory Perception: \\nResearch Findings \\...   \n",
       "1  Diálogo entre a sociologia e a psicanálise  \\n...   \n",
       "2  \n",
       "IRACEMA\\n\\nJOSÉ DE ALENCAR\\n\\n \\n \\n \\n \\n \\n...   \n",
       "3  V\\n\\nJohn Milton\\n\\nUNIVERSIDADE\\nDE BOLSO\\n\\n...   \n",
       "4  \n",
       "\n",
       "\n",
       "\n",
       "i \\n\\nI \\n\\n\n",
       "\n",
       "1  —  H.  e  Tradições  —  V...   \n",
       "\n",
       "                                             PyMuPDF  \\\n",
       "0  Extrasensory Perception: \\n2 \\nResearch Findin...   \n",
       "1   \\nSciELO Books / SciELO Livros / SciELO Libro...   \n",
       "2   \\n \\n \\n \\n \\n \\n \\n \\n \\nIRACEMA\\nJOSÉ DE AL...   \n",
       "3  V\\nUNIVERSIDADE\\nDE BOLSO\\nJohn Milton\\nO Para...   \n",
       "4  i \\nI \\n1  —  H.  e  Tradições  —  Vol.  3.» \\...   \n",
       "\n",
       "                                              PyPdf2  \\\n",
       "0  Extrasensory Perception: 2 \\nResearch Findings...   \n",
       "1   \\nSciELO Books / SciELO Livros / SciELO Libro...   \n",
       "2   \\n \\n \\n \\n \\n \\n \\n \\n \\nIRACEMA\\nJOSÉ DE AL...   \n",
       "3  V\\nUNIVERSIDADE\\nDE BOLSOJohn  Milton\\nO Paraí...   \n",
       "4  i \\nI \\n1  —  H.  e  Tradições  —  Vol.  3.» \\...   \n",
       "\n",
       "                                     Pytesseract-OCR  \n",
       "0  Extrasensory Perception: 2\\nResearch Findings\\...  \n",
       "1  Sel O Books we\\n\\nDialogo entre a sociologia e...  \n",
       "2  \\nIRACEMA\\n\\nJOSE DE ALENCAR\\n\\nCAPITULO 1\\n\\n...  \n",
       "3  o\\n\\n4 ti\\n\\nih a! Se se ee\\n\\n9/zos OHNOIG, <...  \n",
       "4  an\\nf\\n\\not\\n——Z\\n\\n\\n\\n\\n\\n\\n\\n1 — H. e Tradi...  "
      ]
     },
     "execution_count": 34,
     "metadata": {},
     "output_type": "execute_result"
    }
   ],
   "source": [
    "df_texto['Pytesseract-OCR'] = list_Pytesseract\n",
    "df_texto"
   ]
  },
  {
   "cell_type": "markdown",
   "metadata": {
    "id": "aiRSZrzKLHgf"
   },
   "source": [
    "Ferramenta 06 -EasyOCR ❗"
   ]
  },
  {
   "cell_type": "code",
   "execution_count": 35,
   "metadata": {
    "id": "75FXtoQYtCt8"
   },
   "outputs": [],
   "source": [
    "# def extract_text_with_easyocr(list_dict_final_images):\n",
    "\n",
    "#     image_list = [list(data.values())[0] for data in list_dict_final_images]\n",
    "#     image_content = []\n",
    "\n",
    "#     for index, image_bytes in enumerate(image_list):\n",
    "\n",
    "#         image = Image.open(BytesIO(image_bytes))\n",
    "#         raw_text = language_reader.readtext(image)\n",
    "#         raw_text = \"\\n\".join([res[1] for res in raw_text])\n",
    "\n",
    "#         image_content.append(raw_text)\n",
    "\n",
    "#     return \"\\n\".join(image_content)"
   ]
  },
  {
   "cell_type": "code",
   "execution_count": 36,
   "metadata": {},
   "outputs": [],
   "source": [
    "# list_Easy = []"
   ]
  },
  {
   "cell_type": "code",
   "execution_count": 37,
   "metadata": {
    "id": "qMRKp6qRN3iU"
   },
   "outputs": [],
   "source": [
    "# start = time.time()\n",
    "# for i in lista_imagens:\n",
    "\n",
    "#   text_with_easy = extract_text_with_easyocr(i)\n",
    "#   #Limpar a Memoria - Obs\n",
    "#   list_Easy.append(text_with_easy)\n",
    "# end = time.time()"
   ]
  },
  {
   "cell_type": "code",
   "execution_count": 38,
   "metadata": {},
   "outputs": [],
   "source": [
    "# tempo=[end-start]\n",
    "# tempo"
   ]
  },
  {
   "cell_type": "code",
   "execution_count": 39,
   "metadata": {
    "id": "MC8zSDV-OcIS"
   },
   "outputs": [],
   "source": [
    "# df_tempo = pd.concat([df_tempo,pd.DataFrame({'nome':'EasyOCR', 'tempo': tempo})],ignore_index=True)\n",
    "# df_tempo"
   ]
  },
  {
   "cell_type": "code",
   "execution_count": 40,
   "metadata": {},
   "outputs": [],
   "source": [
    "# df_texto['Easy-OCR'] = list_Easy\n",
    "# df_texto"
   ]
  },
  {
   "cell_type": "code",
   "execution_count": 43,
   "metadata": {},
   "outputs": [],
   "source": [
    "df_texto.to_csv('Texto_Extraido.csv',index=False)"
   ]
  },
  {
   "cell_type": "code",
   "execution_count": 44,
   "metadata": {},
   "outputs": [],
   "source": [
    "df_tempo.to_csv('Tempo_da_Extracao.csv',index=False, escapechar=\"\\\\\")"
   ]
  },
  {
   "cell_type": "markdown",
   "metadata": {
    "id": "bpoUagf_KaGT",
    "jp-MarkdownHeadingCollapsed": true
   },
   "source": [
    "### Texto Verdadeiro"
   ]
  },
  {
   "cell_type": "code",
   "execution_count": 45,
   "metadata": {
    "colab": {
     "base_uri": "https://localhost:8080/"
    },
    "id": "RJUCE1AsKi-g",
    "outputId": "26172d4f-03c9-4454-b287-76d4cf291150"
   },
   "outputs": [],
   "source": [
    "df_texto_original = pd.DataFrame(columns=['nome_documento', 'texto_original'])"
   ]
  },
  {
   "cell_type": "code",
   "execution_count": 46,
   "metadata": {
    "id": "3U3aDzabM7ma"
   },
   "outputs": [
    {
     "name": "stderr",
     "output_type": "stream",
     "text": [
      "Extraindo texto dos arquivados: 100%|██████████| 4/4 [00:00<00:00, 53261.00it/s]\n"
     ]
    },
    {
     "name": "stdout",
     "output_type": "stream",
     "text": [
      "Tempo_da_Extracao.csv\n",
      "kernel-NVIDIA_RTX_A5500.bin\n",
      "tesseract_opencl_profile_devices.dat\n",
      "Texto_Extraido.csv\n"
     ]
    },
    {
     "name": "stderr",
     "output_type": "stream",
     "text": [
      "Extraindo texto dos arquivados: 100%|██████████| 2/2 [00:00<00:00, 1223.54it/s]\n"
     ]
    },
    {
     "name": "stdout",
     "output_type": "stream",
     "text": [
      "Extrasensory_Perception_Research_Finding.pdf\n",
      "Extrasensory_Perception_Research_Finding_djvu.txt\n"
     ]
    },
    {
     "name": "stderr",
     "output_type": "stream",
     "text": [
      "Extraindo texto dos arquivados: 100%|██████████| 2/2 [00:00<00:00, 1110.34it/s]\n"
     ]
    },
    {
     "name": "stdout",
     "output_type": "stream",
     "text": [
      "9788523211806_djvu.txt\n",
      "9788523211806.pdf\n"
     ]
    },
    {
     "name": "stderr",
     "output_type": "stream",
     "text": [
      "Extraindo texto dos arquivados: 100%|██████████| 4/4 [00:00<00:00, 3913.51it/s]\n"
     ]
    },
    {
     "name": "stdout",
     "output_type": "stream",
     "text": [
      "Iracema-Jose-de-Alencar_hocr_searchtext.txt.gz\n",
      "Iracema-Jose-de-Alencar_hocr_pageindex.json.gz\n",
      "Iracema-Jose-de-Alencar_djvu.txt\n",
      "Iracema-Jose-de-Alencar.pdf\n"
     ]
    },
    {
     "name": "stderr",
     "output_type": "stream",
     "text": [
      "Extraindo texto dos arquivados: 100%|██████████| 2/2 [00:00<00:00, 1126.14it/s]\n"
     ]
    },
    {
     "name": "stdout",
     "output_type": "stream",
     "text": [
      "O Para#U00edso Perdido - John Milton (Ediouro)_djvu.txt\n",
      "oparaisoperdido.pdf\n"
     ]
    },
    {
     "name": "stderr",
     "output_type": "stream",
     "text": [
      "Extraindo texto dos arquivados: 0it [00:00, ?it/s]\n",
      "Extraindo texto dos arquivados: 100%|██████████| 4/4 [00:00<00:00, 1918.71it/s]"
     ]
    },
    {
     "name": "stdout",
     "output_type": "stream",
     "text": [
      "historiatradsp1954vol3.pdf\n",
      "historiatradsp1954vol3_djvu.txt\n",
      "historiatradsp1954vol3_hocr_pageindex.json.gz\n",
      "historiatradsp1954vol3_hocr_searchtext.txt.gz\n"
     ]
    },
    {
     "name": "stderr",
     "output_type": "stream",
     "text": [
      "\n"
     ]
    }
   ],
   "source": [
    "# Percorre todos os arquivos na pasta\n",
    "for pasta_raiz, _, arquivos in os.walk(diretorio_pasta):\n",
    "    for arquivo in tqdm(arquivos, desc=\"Extraindo texto dos arquivados\"):\n",
    "        print(arquivo)\n",
    "        if arquivo.endswith('.txt'):\n",
    "            caminho_arquivo = os.path.join(pasta_raiz, arquivo)\n",
    "\n",
    "            try:\n",
    "                # Extrai texto do documento PDF usando PyPDF\n",
    "                texto_documento = ''\n",
    "                with open(caminho_arquivo, 'r') as f:\n",
    "                     texto_documento = f.read()\n",
    "                nome_documento = os.path.splitext(arquivo)[0]#nome do documento\n",
    "\n",
    "                # Adiciona o nome do documento e o texto à lista de documentos\n",
    "                df_texto_original = pd.concat([df_texto_original, pd.DataFrame({'nome_documento': [nome_documento], 'texto_original': [texto_documento]})], ignore_index=True)\n",
    "\n",
    "\n",
    "            except Exception as e:\n",
    "                print(f\"Erro ao processar o arquivo {caminho_arquivo}: {str(e)}\")"
   ]
  },
  {
   "cell_type": "code",
   "execution_count": 47,
   "metadata": {
    "id": "S9J_t7UKN9h_"
   },
   "outputs": [
    {
     "data": {
      "text/html": [
       "<div>\n",
       "<style scoped>\n",
       "    .dataframe tbody tr th:only-of-type {\n",
       "        vertical-align: middle;\n",
       "    }\n",
       "\n",
       "    .dataframe tbody tr th {\n",
       "        vertical-align: top;\n",
       "    }\n",
       "\n",
       "    .dataframe thead th {\n",
       "        text-align: right;\n",
       "    }\n",
       "</style>\n",
       "<table border=\"1\" class=\"dataframe\">\n",
       "  <thead>\n",
       "    <tr style=\"text-align: right;\">\n",
       "      <th></th>\n",
       "      <th>nome_documento</th>\n",
       "      <th>texto_original</th>\n",
       "    </tr>\n",
       "  </thead>\n",
       "  <tbody>\n",
       "    <tr>\n",
       "      <th>0</th>\n",
       "      <td>Extrasensory_Perception_Research_Finding_djvu</td>\n",
       "      <td>Extrasensory Perception: \\nResearch Findings \\...</td>\n",
       "    </tr>\n",
       "    <tr>\n",
       "      <th>1</th>\n",
       "      <td>9788523211806_djvu</td>\n",
       "      <td>Diálogo entre a sociologia e a psicanálise \\n\\...</td>\n",
       "    </tr>\n",
       "    <tr>\n",
       "      <th>2</th>\n",
       "      <td>Iracema-Jose-de-Alencar_djvu</td>\n",
       "      <td>IRACEMA \\n\\n\\nJOSÉ DE ALENCAR \\n\\n\\nCAPÍTULO 1...</td>\n",
       "    </tr>\n",
       "    <tr>\n",
       "      <th>3</th>\n",
       "      <td>O Para#U00edso Perdido - John Milton (Ediouro)...</td>\n",
       "      <td>\\nDE BOLSO \\n\\n\\n\\n\\n\\nUm livro EDIOURO é Inco...</td>\n",
       "    </tr>\n",
       "    <tr>\n",
       "      <th>4</th>\n",
       "      <td>historiatradsp1954vol3_djvu</td>\n",
       "      <td>i \\n\\n\\nI \\n\\n\\n1  —  H.  e  Tradições  —  Vol...</td>\n",
       "    </tr>\n",
       "  </tbody>\n",
       "</table>\n",
       "</div>"
      ],
      "text/plain": [
       "                                      nome_documento  \\\n",
       "0      Extrasensory_Perception_Research_Finding_djvu   \n",
       "1                                 9788523211806_djvu   \n",
       "2                       Iracema-Jose-de-Alencar_djvu   \n",
       "3  O Para#U00edso Perdido - John Milton (Ediouro)...   \n",
       "4                        historiatradsp1954vol3_djvu   \n",
       "\n",
       "                                      texto_original  \n",
       "0  Extrasensory Perception: \\nResearch Findings \\...  \n",
       "1  Diálogo entre a sociologia e a psicanálise \\n\\...  \n",
       "2  IRACEMA \\n\\n\\nJOSÉ DE ALENCAR \\n\\n\\nCAPÍTULO 1...  \n",
       "3  \\nDE BOLSO \\n\\n\\n\\n\\n\\nUm livro EDIOURO é Inco...  \n",
       "4  i \\n\\n\\nI \\n\\n\\n1  —  H.  e  Tradições  —  Vol...  "
      ]
     },
     "execution_count": 47,
     "metadata": {},
     "output_type": "execute_result"
    }
   ],
   "source": [
    "df_texto_original"
   ]
  },
  {
   "cell_type": "code",
   "execution_count": 48,
   "metadata": {
    "colab": {
     "base_uri": "https://localhost:8080/"
    },
    "id": "tmuz5ZfTOToX",
    "outputId": "add636d9-40bd-4729-9d18-c1dcda372692"
   },
   "outputs": [],
   "source": [
    "df_texto_original.to_csv('Texto_Original.csv',index=False, escapechar=\"\\\\\")"
   ]
  },
  {
   "cell_type": "markdown",
   "metadata": {
    "id": "Aa6LfbCFKgbQ"
   },
   "source": [
    "### Resultados"
   ]
  },
  {
   "cell_type": "markdown",
   "metadata": {
    "jp-MarkdownHeadingCollapsed": true
   },
   "source": [
    "##### Exportar as extração do texto"
   ]
  },
  {
   "cell_type": "code",
   "execution_count": 1,
   "metadata": {
    "colab": {
     "base_uri": "https://localhost:8080/"
    },
    "id": "_Ep7-zVQQXiy",
    "outputId": "9b58d2f3-5a50-4ccf-951d-bb74a0de119e"
   },
   "outputs": [],
   "source": [
    "import pandas as pd\n",
    "import os"
   ]
  },
  {
   "cell_type": "code",
   "execution_count": 2,
   "metadata": {},
   "outputs": [
    {
     "name": "stdout",
     "output_type": "stream",
     "text": [
      "/home/laca/Documentos/PDF/Avaliacao_Final/Conjunto_de_Dados ['Tempo_da_Extracao.csv', 'Dataset 1', 'Dataset 2', 'kernel-NVIDIA_RTX_A5500.bin', 'Texto_Original.csv', 'tesseract_opencl_profile_devices.dat', 'Dataset 5', 'Dataset 3', 'Texto_Extraido.csv', 'Dataset 4']\n"
     ]
    }
   ],
   "source": [
    "current = os.getcwd()\n",
    "directory = 'Conjunto_de_Dados'\n",
    "path = os.path.join(current, directory)\n",
    "os.chdir(path)\n",
    "diretorio_pasta = os.getcwd()\n",
    "conteudo_diretorio = os.listdir(os.getcwd())\n",
    "\n",
    "print(diretorio_pasta, conteudo_diretorio)"
   ]
  },
  {
   "cell_type": "code",
   "execution_count": 3,
   "metadata": {
    "colab": {
     "base_uri": "https://localhost:8080/"
    },
    "id": "x0NFkMScXcYv",
    "outputId": "55a99f78-8609-4f37-d739-d07a1eb3b4d6"
   },
   "outputs": [],
   "source": [
    "# import fastwer\n",
    "from jiwer import cer,wer"
   ]
  },
  {
   "cell_type": "code",
   "execution_count": 4,
   "metadata": {
    "id": "DcLlE3jQQxtY"
   },
   "outputs": [
    {
     "data": {
      "text/html": [
       "<div>\n",
       "<style scoped>\n",
       "    .dataframe tbody tr th:only-of-type {\n",
       "        vertical-align: middle;\n",
       "    }\n",
       "\n",
       "    .dataframe tbody tr th {\n",
       "        vertical-align: top;\n",
       "    }\n",
       "\n",
       "    .dataframe thead th {\n",
       "        text-align: right;\n",
       "    }\n",
       "</style>\n",
       "<table border=\"1\" class=\"dataframe\">\n",
       "  <thead>\n",
       "    <tr style=\"text-align: right;\">\n",
       "      <th></th>\n",
       "      <th>nome_documento</th>\n",
       "      <th>texto_original</th>\n",
       "    </tr>\n",
       "  </thead>\n",
       "  <tbody>\n",
       "    <tr>\n",
       "      <th>0</th>\n",
       "      <td>Extrasensory_Perception_Research_Finding_djvu</td>\n",
       "      <td>Extrasensory Perception: \\nResearch Findings \\...</td>\n",
       "    </tr>\n",
       "    <tr>\n",
       "      <th>1</th>\n",
       "      <td>9788523211806_djvu</td>\n",
       "      <td>Diálogo entre a sociologia e a psicanálise \\n\\...</td>\n",
       "    </tr>\n",
       "    <tr>\n",
       "      <th>2</th>\n",
       "      <td>Iracema-Jose-de-Alencar_djvu</td>\n",
       "      <td>IRACEMA \\n\\n\\nJOSÉ DE ALENCAR \\n\\n\\nCAPÍTULO 1...</td>\n",
       "    </tr>\n",
       "    <tr>\n",
       "      <th>3</th>\n",
       "      <td>O Para#U00edso Perdido - John Milton (Ediouro)...</td>\n",
       "      <td>\\nDE BOLSO \\n\\n\\n\\n\\n\\nUm livro EDIOURO é Inco...</td>\n",
       "    </tr>\n",
       "    <tr>\n",
       "      <th>4</th>\n",
       "      <td>historiatradsp1954vol3_djvu</td>\n",
       "      <td>i \\n\\n\\nI \\n\\n\\n1  —  H.  e  Tradições  —  Vol...</td>\n",
       "    </tr>\n",
       "  </tbody>\n",
       "</table>\n",
       "</div>"
      ],
      "text/plain": [
       "                                      nome_documento  \\\n",
       "0      Extrasensory_Perception_Research_Finding_djvu   \n",
       "1                                 9788523211806_djvu   \n",
       "2                       Iracema-Jose-de-Alencar_djvu   \n",
       "3  O Para#U00edso Perdido - John Milton (Ediouro)...   \n",
       "4                        historiatradsp1954vol3_djvu   \n",
       "\n",
       "                                      texto_original  \n",
       "0  Extrasensory Perception: \\nResearch Findings \\...  \n",
       "1  Diálogo entre a sociologia e a psicanálise \\n\\...  \n",
       "2  IRACEMA \\n\\n\\nJOSÉ DE ALENCAR \\n\\n\\nCAPÍTULO 1...  \n",
       "3  \\nDE BOLSO \\n\\n\\n\\n\\n\\nUm livro EDIOURO é Inco...  \n",
       "4  i \\n\\n\\nI \\n\\n\\n1  —  H.  e  Tradições  —  Vol...  "
      ]
     },
     "execution_count": 4,
     "metadata": {},
     "output_type": "execute_result"
    }
   ],
   "source": [
    "output = pd.read_csv('Texto_Original.csv')\n",
    "output"
   ]
  },
  {
   "cell_type": "code",
   "execution_count": 5,
   "metadata": {
    "id": "7pR3Nqr6Qx5u"
   },
   "outputs": [
    {
     "data": {
      "text/html": [
       "<div>\n",
       "<style scoped>\n",
       "    .dataframe tbody tr th:only-of-type {\n",
       "        vertical-align: middle;\n",
       "    }\n",
       "\n",
       "    .dataframe tbody tr th {\n",
       "        vertical-align: top;\n",
       "    }\n",
       "\n",
       "    .dataframe thead th {\n",
       "        text-align: right;\n",
       "    }\n",
       "</style>\n",
       "<table border=\"1\" class=\"dataframe\">\n",
       "  <thead>\n",
       "    <tr style=\"text-align: right;\">\n",
       "      <th></th>\n",
       "      <th>nome_documento</th>\n",
       "      <th>PDFX</th>\n",
       "      <th>PyMuPDF</th>\n",
       "      <th>PyPdf2</th>\n",
       "      <th>Pytesseract-OCR</th>\n",
       "    </tr>\n",
       "  </thead>\n",
       "  <tbody>\n",
       "    <tr>\n",
       "      <th>0</th>\n",
       "      <td>Extrasensory_Perception_Research_Finding</td>\n",
       "      <td>Extrasensory Perception: \\nResearch Findings \\...</td>\n",
       "      <td>Extrasensory Perception: \\n2 \\nResearch Findin...</td>\n",
       "      <td>Extrasensory Perception: 2 \\nResearch Findings...</td>\n",
       "      <td>Extrasensory Perception: 2\\nResearch Findings\\...</td>\n",
       "    </tr>\n",
       "    <tr>\n",
       "      <th>1</th>\n",
       "      <td>9788523211806</td>\n",
       "      <td>Diálogo entre a sociologia e a psicanálise  \\n...</td>\n",
       "      <td>\\nSciELO Books / SciELO Livros / SciELO Libro...</td>\n",
       "      <td>\\nSciELO Books / SciELO Livros / SciELO Libro...</td>\n",
       "      <td>Sel O Books we\\n\\nDialogo entre a sociologia e...</td>\n",
       "    </tr>\n",
       "    <tr>\n",
       "      <th>2</th>\n",
       "      <td>Iracema-Jose-de-Alencar</td>\n",
       "      <td>IRACEMA\\n\\nJOSÉ DE ALENCAR\\n\\n \\n \\n \\n \\n \\n...</td>\n",
       "      <td>\\n \\n \\n \\n \\n \\n \\n \\n \\nIRACEMA\\nJOSÉ DE AL...</td>\n",
       "      <td>\\n \\n \\n \\n \\n \\n \\n \\n \\nIRACEMA\\nJOSÉ DE AL...</td>\n",
       "      <td>\\nIRACEMA\\n\\nJOSE DE ALENCAR\\n\\nCAPITULO 1\\n\\n...</td>\n",
       "    </tr>\n",
       "    <tr>\n",
       "      <th>3</th>\n",
       "      <td>oparaisoperdido</td>\n",
       "      <td>V\\n\\nJohn Milton\\n\\nUNIVERSIDADE\\nDE BOLSO\\n\\n...</td>\n",
       "      <td>V\\nUNIVERSIDADE\\nDE BOLSO\\nJohn Milton\\nO Para...</td>\n",
       "      <td>V\\nUNIVERSIDADE\\nDE BOLSOJohn  Milton\\nO Paraí...</td>\n",
       "      <td>o\\n\\n4 ti\\n\\nih a! Se se ee\\n\\n9/zos OHNOIG, &lt;...</td>\n",
       "    </tr>\n",
       "    <tr>\n",
       "      <th>4</th>\n",
       "      <td>historiatradsp1954vol3</td>\n",
       "      <td>i \\n\\nI \\n\\n\f",
       "\f",
       "1  —  H.  e  Tradições  —  V...</td>\n",
       "      <td>i \\nI \\n1  —  H.  e  Tradições  —  Vol.  3.» \\...</td>\n",
       "      <td>i \\nI \\n1  —  H.  e  Tradições  —  Vol.  3.» \\...</td>\n",
       "      <td>an\\nf\\n\\not\\n——Z\\n\\n\\n\\n\\n\\n\\n\\n1 — H. e Tradi...</td>\n",
       "    </tr>\n",
       "  </tbody>\n",
       "</table>\n",
       "</div>"
      ],
      "text/plain": [
       "                             nome_documento  \\\n",
       "0  Extrasensory_Perception_Research_Finding   \n",
       "1                             9788523211806   \n",
       "2                   Iracema-Jose-de-Alencar   \n",
       "3                           oparaisoperdido   \n",
       "4                    historiatradsp1954vol3   \n",
       "\n",
       "                                                PDFX  \\\n",
       "0  Extrasensory Perception: \\nResearch Findings \\...   \n",
       "1  Diálogo entre a sociologia e a psicanálise  \\n...   \n",
       "2  \n",
       "IRACEMA\\n\\nJOSÉ DE ALENCAR\\n\\n \\n \\n \\n \\n \\n...   \n",
       "3  V\\n\\nJohn Milton\\n\\nUNIVERSIDADE\\nDE BOLSO\\n\\n...   \n",
       "4  \n",
       "\n",
       "\n",
       "\n",
       "i \\n\\nI \\n\\n\n",
       "\n",
       "1  —  H.  e  Tradições  —  V...   \n",
       "\n",
       "                                             PyMuPDF  \\\n",
       "0  Extrasensory Perception: \\n2 \\nResearch Findin...   \n",
       "1   \\nSciELO Books / SciELO Livros / SciELO Libro...   \n",
       "2   \\n \\n \\n \\n \\n \\n \\n \\n \\nIRACEMA\\nJOSÉ DE AL...   \n",
       "3  V\\nUNIVERSIDADE\\nDE BOLSO\\nJohn Milton\\nO Para...   \n",
       "4  i \\nI \\n1  —  H.  e  Tradições  —  Vol.  3.» \\...   \n",
       "\n",
       "                                              PyPdf2  \\\n",
       "0  Extrasensory Perception: 2 \\nResearch Findings...   \n",
       "1   \\nSciELO Books / SciELO Livros / SciELO Libro...   \n",
       "2   \\n \\n \\n \\n \\n \\n \\n \\n \\nIRACEMA\\nJOSÉ DE AL...   \n",
       "3  V\\nUNIVERSIDADE\\nDE BOLSOJohn  Milton\\nO Paraí...   \n",
       "4  i \\nI \\n1  —  H.  e  Tradições  —  Vol.  3.» \\...   \n",
       "\n",
       "                                     Pytesseract-OCR  \n",
       "0  Extrasensory Perception: 2\\nResearch Findings\\...  \n",
       "1  Sel O Books we\\n\\nDialogo entre a sociologia e...  \n",
       "2  \\nIRACEMA\\n\\nJOSE DE ALENCAR\\n\\nCAPITULO 1\\n\\n...  \n",
       "3  o\\n\\n4 ti\\n\\nih a! Se se ee\\n\\n9/zos OHNOIG, <...  \n",
       "4  an\\nf\\n\\not\\n——Z\\n\\n\\n\\n\\n\\n\\n\\n1 — H. e Tradi...  "
      ]
     },
     "execution_count": 5,
     "metadata": {},
     "output_type": "execute_result"
    }
   ],
   "source": [
    "reference = pd.read_csv('Texto_Extraido.csv')\n",
    "reference"
   ]
  },
  {
   "cell_type": "markdown",
   "metadata": {
    "id": "G8gVpxfJQNvO",
    "jp-MarkdownHeadingCollapsed": true
   },
   "source": [
    "##### Taxa de Erro de Caractere (CER)"
   ]
  },
  {
   "cell_type": "code",
   "execution_count": 22,
   "metadata": {
    "id": "RmHbkgA1QyBN"
   },
   "outputs": [
    {
     "data": {
      "text/html": [
       "<div>\n",
       "<style scoped>\n",
       "    .dataframe tbody tr th:only-of-type {\n",
       "        vertical-align: middle;\n",
       "    }\n",
       "\n",
       "    .dataframe tbody tr th {\n",
       "        vertical-align: top;\n",
       "    }\n",
       "\n",
       "    .dataframe thead th {\n",
       "        text-align: right;\n",
       "    }\n",
       "</style>\n",
       "<table border=\"1\" class=\"dataframe\">\n",
       "  <thead>\n",
       "    <tr style=\"text-align: right;\">\n",
       "      <th></th>\n",
       "      <th>nome_documento</th>\n",
       "    </tr>\n",
       "  </thead>\n",
       "  <tbody>\n",
       "    <tr>\n",
       "      <th>0</th>\n",
       "      <td>Extrasensory_Perception_Research_Finding</td>\n",
       "    </tr>\n",
       "    <tr>\n",
       "      <th>1</th>\n",
       "      <td>9788523211806</td>\n",
       "    </tr>\n",
       "    <tr>\n",
       "      <th>2</th>\n",
       "      <td>Iracema-Jose-de-Alencar</td>\n",
       "    </tr>\n",
       "    <tr>\n",
       "      <th>3</th>\n",
       "      <td>oparaisoperdido</td>\n",
       "    </tr>\n",
       "    <tr>\n",
       "      <th>4</th>\n",
       "      <td>historiatradsp1954vol3</td>\n",
       "    </tr>\n",
       "  </tbody>\n",
       "</table>\n",
       "</div>"
      ],
      "text/plain": [
       "                             nome_documento\n",
       "0  Extrasensory_Perception_Research_Finding\n",
       "1                             9788523211806\n",
       "2                   Iracema-Jose-de-Alencar\n",
       "3                           oparaisoperdido\n",
       "4                    historiatradsp1954vol3"
      ]
     },
     "execution_count": 22,
     "metadata": {},
     "output_type": "execute_result"
    }
   ],
   "source": [
    "df_resultado_cer = pd.DataFrame(reference['nome_documento'])\n",
    "df_resultado_cer"
   ]
  },
  {
   "cell_type": "code",
   "execution_count": 23,
   "metadata": {},
   "outputs": [
    {
     "data": {
      "text/plain": [
       "['PDFX', 'PyMuPDF', 'PyPdf2', 'Pytesseract-OCR']"
      ]
     },
     "execution_count": 23,
     "metadata": {},
     "output_type": "execute_result"
    }
   ],
   "source": [
    "lista_colunas = list(reference.columns.values)\n",
    "lista_colunas.remove('nome_documento') \n",
    "lista_colunas"
   ]
  },
  {
   "cell_type": "code",
   "execution_count": 25,
   "metadata": {
    "id": "yO192PJfQyMn"
   },
   "outputs": [],
   "source": [
    "for coluna in lista_colunas:\n",
    "  ferramenta = {coluna : []}\n",
    "  for i in range(len(df_resultado_cer)):\n",
    "    r_cer = cer(reference[coluna][i],output['texto_original'][i])\n",
    "    ferramenta[coluna].append(r_cer)\n",
    "  df_resultado_cer[coluna] = ferramenta[coluna] \n"
   ]
  },
  {
   "cell_type": "code",
   "execution_count": 26,
   "metadata": {},
   "outputs": [
    {
     "data": {
      "text/html": [
       "<div>\n",
       "<style scoped>\n",
       "    .dataframe tbody tr th:only-of-type {\n",
       "        vertical-align: middle;\n",
       "    }\n",
       "\n",
       "    .dataframe tbody tr th {\n",
       "        vertical-align: top;\n",
       "    }\n",
       "\n",
       "    .dataframe thead th {\n",
       "        text-align: right;\n",
       "    }\n",
       "</style>\n",
       "<table border=\"1\" class=\"dataframe\">\n",
       "  <thead>\n",
       "    <tr style=\"text-align: right;\">\n",
       "      <th></th>\n",
       "      <th>nome_documento</th>\n",
       "      <th>PDFX</th>\n",
       "      <th>PyMuPDF</th>\n",
       "      <th>PyPdf2</th>\n",
       "      <th>Pytesseract-OCR</th>\n",
       "    </tr>\n",
       "  </thead>\n",
       "  <tbody>\n",
       "    <tr>\n",
       "      <th>0</th>\n",
       "      <td>Extrasensory_Perception_Research_Finding</td>\n",
       "      <td>0.084160</td>\n",
       "      <td>0.019707</td>\n",
       "      <td>0.020586</td>\n",
       "      <td>0.021523</td>\n",
       "    </tr>\n",
       "    <tr>\n",
       "      <th>1</th>\n",
       "      <td>9788523211806</td>\n",
       "      <td>0.091375</td>\n",
       "      <td>0.021102</td>\n",
       "      <td>0.059165</td>\n",
       "      <td>0.054368</td>\n",
       "    </tr>\n",
       "    <tr>\n",
       "      <th>2</th>\n",
       "      <td>Iracema-Jose-de-Alencar</td>\n",
       "      <td>0.119799</td>\n",
       "      <td>0.050697</td>\n",
       "      <td>0.048672</td>\n",
       "      <td>0.051373</td>\n",
       "    </tr>\n",
       "    <tr>\n",
       "      <th>3</th>\n",
       "      <td>oparaisoperdido</td>\n",
       "      <td>0.039663</td>\n",
       "      <td>0.040737</td>\n",
       "      <td>0.115274</td>\n",
       "      <td>0.112975</td>\n",
       "    </tr>\n",
       "    <tr>\n",
       "      <th>4</th>\n",
       "      <td>historiatradsp1954vol3</td>\n",
       "      <td>0.037645</td>\n",
       "      <td>0.008557</td>\n",
       "      <td>0.019780</td>\n",
       "      <td>0.275544</td>\n",
       "    </tr>\n",
       "  </tbody>\n",
       "</table>\n",
       "</div>"
      ],
      "text/plain": [
       "                             nome_documento      PDFX   PyMuPDF    PyPdf2  \\\n",
       "0  Extrasensory_Perception_Research_Finding  0.084160  0.019707  0.020586   \n",
       "1                             9788523211806  0.091375  0.021102  0.059165   \n",
       "2                   Iracema-Jose-de-Alencar  0.119799  0.050697  0.048672   \n",
       "3                           oparaisoperdido  0.039663  0.040737  0.115274   \n",
       "4                    historiatradsp1954vol3  0.037645  0.008557  0.019780   \n",
       "\n",
       "   Pytesseract-OCR  \n",
       "0         0.021523  \n",
       "1         0.054368  \n",
       "2         0.051373  \n",
       "3         0.112975  \n",
       "4         0.275544  "
      ]
     },
     "execution_count": 26,
     "metadata": {},
     "output_type": "execute_result"
    }
   ],
   "source": [
    "df_resultado_cer"
   ]
  },
  {
   "cell_type": "code",
   "execution_count": 27,
   "metadata": {},
   "outputs": [],
   "source": [
    "df_resultado_cer.to_csv('RESULTADO_CER.csv',index=False, escapechar=\"\\\\\")"
   ]
  },
  {
   "cell_type": "markdown",
   "metadata": {
    "id": "EFJidIsYQTxp"
   },
   "source": [
    "##### Taxa de Erro de Palavras (WER)"
   ]
  },
  {
   "cell_type": "code",
   "execution_count": 28,
   "metadata": {},
   "outputs": [
    {
     "data": {
      "text/html": [
       "<div>\n",
       "<style scoped>\n",
       "    .dataframe tbody tr th:only-of-type {\n",
       "        vertical-align: middle;\n",
       "    }\n",
       "\n",
       "    .dataframe tbody tr th {\n",
       "        vertical-align: top;\n",
       "    }\n",
       "\n",
       "    .dataframe thead th {\n",
       "        text-align: right;\n",
       "    }\n",
       "</style>\n",
       "<table border=\"1\" class=\"dataframe\">\n",
       "  <thead>\n",
       "    <tr style=\"text-align: right;\">\n",
       "      <th></th>\n",
       "      <th>nome_documento</th>\n",
       "    </tr>\n",
       "  </thead>\n",
       "  <tbody>\n",
       "    <tr>\n",
       "      <th>0</th>\n",
       "      <td>Extrasensory_Perception_Research_Finding</td>\n",
       "    </tr>\n",
       "    <tr>\n",
       "      <th>1</th>\n",
       "      <td>9788523211806</td>\n",
       "    </tr>\n",
       "    <tr>\n",
       "      <th>2</th>\n",
       "      <td>Iracema-Jose-de-Alencar</td>\n",
       "    </tr>\n",
       "    <tr>\n",
       "      <th>3</th>\n",
       "      <td>oparaisoperdido</td>\n",
       "    </tr>\n",
       "    <tr>\n",
       "      <th>4</th>\n",
       "      <td>historiatradsp1954vol3</td>\n",
       "    </tr>\n",
       "  </tbody>\n",
       "</table>\n",
       "</div>"
      ],
      "text/plain": [
       "                             nome_documento\n",
       "0  Extrasensory_Perception_Research_Finding\n",
       "1                             9788523211806\n",
       "2                   Iracema-Jose-de-Alencar\n",
       "3                           oparaisoperdido\n",
       "4                    historiatradsp1954vol3"
      ]
     },
     "execution_count": 28,
     "metadata": {},
     "output_type": "execute_result"
    }
   ],
   "source": [
    "df_resultado_wer = pd.DataFrame(reference['nome_documento'])\n",
    "df_resultado_wer"
   ]
  },
  {
   "cell_type": "code",
   "execution_count": 29,
   "metadata": {},
   "outputs": [
    {
     "data": {
      "text/plain": [
       "['PDFX', 'PyMuPDF', 'PyPdf2', 'Pytesseract-OCR']"
      ]
     },
     "execution_count": 29,
     "metadata": {},
     "output_type": "execute_result"
    }
   ],
   "source": [
    "lista_colunas = list(reference.columns.values)\n",
    "lista_colunas.remove('nome_documento') \n",
    "lista_colunas"
   ]
  },
  {
   "cell_type": "code",
   "execution_count": null,
   "metadata": {},
   "outputs": [],
   "source": [
    "for coluna in lista_colunas:\n",
    "  ferramenta = {coluna : []}\n",
    "  for i in range(len(df_resultado_wer)):\n",
    "    r_wer = wer(reference[coluna][i],output['texto_original'][i])\n",
    "    ferramenta[coluna].append(r_wer)\n",
    "  df_resultado_wer[coluna] = ferramenta[coluna] \n"
   ]
  },
  {
   "cell_type": "code",
   "execution_count": null,
   "metadata": {},
   "outputs": [],
   "source": [
    "df_resultado_wer"
   ]
  },
  {
   "cell_type": "code",
   "execution_count": null,
   "metadata": {},
   "outputs": [],
   "source": [
    "df_resultado_wer.to_csv('RESULTADO_WER.csv',index=False, escapechar=\"\\\\\")"
   ]
  }
 ],
 "metadata": {
  "colab": {
   "collapsed_sections": [
    "mlE0B1m7jrz9",
    "PzQ7_DCTmPiN"
   ],
   "provenance": []
  },
  "kernelspec": {
   "display_name": "Python 3 (ipykernel)",
   "language": "python",
   "name": "python3"
  },
  "language_info": {
   "codemirror_mode": {
    "name": "ipython",
    "version": 3
   },
   "file_extension": ".py",
   "mimetype": "text/x-python",
   "name": "python",
   "nbconvert_exporter": "python",
   "pygments_lexer": "ipython3",
   "version": "3.11.7"
  }
 },
 "nbformat": 4,
 "nbformat_minor": 4
}
